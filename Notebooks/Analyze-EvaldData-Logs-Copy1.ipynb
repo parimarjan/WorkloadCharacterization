{
 "cells": [
  {
   "cell_type": "code",
   "execution_count": 1,
   "id": "e2a0b777",
   "metadata": {},
   "outputs": [],
   "source": [
    "import pandas as pd\n",
    "import numpy as np\n",
    "import glob\n",
    "import os\n",
    "from collections import defaultdict\n",
    "import seaborn as sns\n",
    "import matplotlib.pyplot as plt"
   ]
  },
  {
   "cell_type": "code",
   "execution_count": 28,
   "id": "31770174",
   "metadata": {},
   "outputs": [],
   "source": [
    "def extract_val(d, key):\n",
    "    val_start = d.find(key)\n",
    "    val_end = val_start + d[val_start:].find(\",\")\n",
    "    val = d[val_start:val_end].split(\"=\")[1]\n",
    "    return val.replace(\"'\", \"\")\n",
    "\n",
    "def load_logs(logfile):\n",
    "    with open(logfile, \"r\") as f:\n",
    "        data = f.readlines()\n",
    "    \n",
    "    retdata = defaultdict(list)\n",
    "    alg = None\n",
    "    \n",
    "    for d in data:\n",
    "        if \"data_kind\" in d:\n",
    "            data_kind = extract_val(d, \"data_kind\")\n",
    "            inp_to_eval = extract_val(d, \"inp_to_eval\")\n",
    "            if data_kind == \"\":\n",
    "                data_kind = \"true\"\n",
    "            \n",
    "        if \"-->\" in d:\n",
    "            linedata = d.split(\" \")\n",
    "            ehash = linedata[5]\n",
    "            rt = float(linedata[-1].replace(\"\\n\", \"\"))\n",
    "            rep = int(linedata[-3])\n",
    "            retdata[\"ehash\"].append(ehash)\n",
    "            retdata[\"rt\"].append(rt)\n",
    "            retdata[\"rep\"].append(rep)\n",
    "            retdata[\"data_kind\"].append(str(data_kind))\n",
    "            retdata[\"inp_to_eval\"].append(inp_to_eval)\n",
    "    \n",
    "    df = pd.DataFrame(retdata)\n",
    "    return df"
   ]
  },
  {
   "cell_type": "code",
   "execution_count": 29,
   "id": "f26c42e6",
   "metadata": {},
   "outputs": [],
   "source": [
    "LOGDIR = \"../results/\""
   ]
  },
  {
   "cell_type": "code",
   "execution_count": 30,
   "id": "bc6705c2",
   "metadata": {},
   "outputs": [],
   "source": [
    "fns = glob.glob(LOGDIR + \"*.log\")\n",
    "dfs = []\n",
    "\n",
    "for fn in fns:\n",
    "    df = load_logs(fn)\n",
    "    dfs.append(df)"
   ]
  },
  {
   "cell_type": "code",
   "execution_count": 31,
   "id": "a903c3f2",
   "metadata": {},
   "outputs": [],
   "source": [
    "df = pd.concat(dfs)"
   ]
  },
  {
   "cell_type": "code",
   "execution_count": 32,
   "id": "f6334a3c",
   "metadata": {},
   "outputs": [
    {
     "name": "stdout",
     "output_type": "stream",
     "text": [
      "{'true', 'random_domain3'} {'mi'}\n"
     ]
    },
    {
     "data": {
      "text/html": [
       "<div>\n",
       "<style scoped>\n",
       "    .dataframe tbody tr th:only-of-type {\n",
       "        vertical-align: middle;\n",
       "    }\n",
       "\n",
       "    .dataframe tbody tr th {\n",
       "        vertical-align: top;\n",
       "    }\n",
       "\n",
       "    .dataframe thead th {\n",
       "        text-align: right;\n",
       "    }\n",
       "</style>\n",
       "<table border=\"1\" class=\"dataframe\">\n",
       "  <thead>\n",
       "    <tr style=\"text-align: right;\">\n",
       "      <th></th>\n",
       "      <th>ehash</th>\n",
       "      <th>rt</th>\n",
       "      <th>rep</th>\n",
       "      <th>data_kind</th>\n",
       "      <th>inp_to_eval</th>\n",
       "    </tr>\n",
       "  </thead>\n",
       "  <tbody>\n",
       "    <tr>\n",
       "      <th>0</th>\n",
       "      <td>1445181067565615963714989244604800786123047056644</td>\n",
       "      <td>1.265104</td>\n",
       "      <td>0</td>\n",
       "      <td>random_domain3</td>\n",
       "      <td>mi</td>\n",
       "    </tr>\n",
       "    <tr>\n",
       "      <th>1</th>\n",
       "      <td>915029170915645337045155848430817461122198949223</td>\n",
       "      <td>1.070670</td>\n",
       "      <td>0</td>\n",
       "      <td>random_domain3</td>\n",
       "      <td>mi</td>\n",
       "    </tr>\n",
       "    <tr>\n",
       "      <th>2</th>\n",
       "      <td>648840168530145489155498068332217171541974777094</td>\n",
       "      <td>0.729891</td>\n",
       "      <td>0</td>\n",
       "      <td>random_domain3</td>\n",
       "      <td>mi</td>\n",
       "    </tr>\n",
       "    <tr>\n",
       "      <th>3</th>\n",
       "      <td>939906722582594503280211484844109823221417696432</td>\n",
       "      <td>0.973084</td>\n",
       "      <td>0</td>\n",
       "      <td>random_domain3</td>\n",
       "      <td>mi</td>\n",
       "    </tr>\n",
       "    <tr>\n",
       "      <th>4</th>\n",
       "      <td>985595977828115300791443894398287667156903744520</td>\n",
       "      <td>1.405272</td>\n",
       "      <td>0</td>\n",
       "      <td>random_domain3</td>\n",
       "      <td>mi</td>\n",
       "    </tr>\n",
       "    <tr>\n",
       "      <th>...</th>\n",
       "      <td>...</td>\n",
       "      <td>...</td>\n",
       "      <td>...</td>\n",
       "      <td>...</td>\n",
       "      <td>...</td>\n",
       "    </tr>\n",
       "    <tr>\n",
       "      <th>295</th>\n",
       "      <td>1406086290633135910613729171818489439155527733675</td>\n",
       "      <td>1.114464</td>\n",
       "      <td>2</td>\n",
       "      <td>true</td>\n",
       "      <td>mi</td>\n",
       "    </tr>\n",
       "    <tr>\n",
       "      <th>296</th>\n",
       "      <td>230535799474811724369185576624635874796407929836</td>\n",
       "      <td>1.425484</td>\n",
       "      <td>2</td>\n",
       "      <td>true</td>\n",
       "      <td>mi</td>\n",
       "    </tr>\n",
       "    <tr>\n",
       "      <th>297</th>\n",
       "      <td>1173753053974897997170216843784886333724472464199</td>\n",
       "      <td>0.577801</td>\n",
       "      <td>2</td>\n",
       "      <td>true</td>\n",
       "      <td>mi</td>\n",
       "    </tr>\n",
       "    <tr>\n",
       "      <th>298</th>\n",
       "      <td>777796671173874060892052610456388716951917013795</td>\n",
       "      <td>0.843946</td>\n",
       "      <td>2</td>\n",
       "      <td>true</td>\n",
       "      <td>mi</td>\n",
       "    </tr>\n",
       "    <tr>\n",
       "      <th>299</th>\n",
       "      <td>277640259584170611822492969838570694249263098432</td>\n",
       "      <td>1.169425</td>\n",
       "      <td>2</td>\n",
       "      <td>true</td>\n",
       "      <td>mi</td>\n",
       "    </tr>\n",
       "  </tbody>\n",
       "</table>\n",
       "<p>600 rows × 5 columns</p>\n",
       "</div>"
      ],
      "text/plain": [
       "                                                 ehash        rt  rep  \\\n",
       "0    1445181067565615963714989244604800786123047056644  1.265104    0   \n",
       "1     915029170915645337045155848430817461122198949223  1.070670    0   \n",
       "2     648840168530145489155498068332217171541974777094  0.729891    0   \n",
       "3     939906722582594503280211484844109823221417696432  0.973084    0   \n",
       "4     985595977828115300791443894398287667156903744520  1.405272    0   \n",
       "..                                                 ...       ...  ...   \n",
       "295  1406086290633135910613729171818489439155527733675  1.114464    2   \n",
       "296   230535799474811724369185576624635874796407929836  1.425484    2   \n",
       "297  1173753053974897997170216843784886333724472464199  0.577801    2   \n",
       "298   777796671173874060892052610456388716951917013795  0.843946    2   \n",
       "299   277640259584170611822492969838570694249263098432  1.169425    2   \n",
       "\n",
       "          data_kind inp_to_eval  \n",
       "0    random_domain3          mi  \n",
       "1    random_domain3          mi  \n",
       "2    random_domain3          mi  \n",
       "3    random_domain3          mi  \n",
       "4    random_domain3          mi  \n",
       "..              ...         ...  \n",
       "295            true          mi  \n",
       "296            true          mi  \n",
       "297            true          mi  \n",
       "298            true          mi  \n",
       "299            true          mi  \n",
       "\n",
       "[600 rows x 5 columns]"
      ]
     },
     "execution_count": 32,
     "metadata": {},
     "output_type": "execute_result"
    }
   ],
   "source": [
    "print(set(df[\"data_kind\"]), set(df[\"inp_to_eval\"]))\n",
    "df"
   ]
  },
  {
   "cell_type": "code",
   "execution_count": 33,
   "id": "c48a2b1a",
   "metadata": {},
   "outputs": [],
   "source": [
    "df = df[df.data_kind != 'random_domain']\n",
    "#df = df[df.inp_to_eval == 'n']"
   ]
  },
  {
   "cell_type": "code",
   "execution_count": 34,
   "id": "0e5f3589",
   "metadata": {},
   "outputs": [
    {
     "data": {
      "text/plain": [
       "data_kind\n",
       "random_domain3    338.095377\n",
       "true              256.369481\n",
       "Name: rt, dtype: float64"
      ]
     },
     "execution_count": 34,
     "metadata": {},
     "output_type": "execute_result"
    }
   ],
   "source": [
    "df.groupby([\"data_kind\"])[\"rt\"].sum()"
   ]
  },
  {
   "cell_type": "code",
   "execution_count": 35,
   "id": "2c16562c",
   "metadata": {},
   "outputs": [
    {
     "data": {
      "text/html": [
       "<div>\n",
       "<style scoped>\n",
       "    .dataframe tbody tr th:only-of-type {\n",
       "        vertical-align: middle;\n",
       "    }\n",
       "\n",
       "    .dataframe tbody tr th {\n",
       "        vertical-align: top;\n",
       "    }\n",
       "\n",
       "    .dataframe thead th {\n",
       "        text-align: right;\n",
       "    }\n",
       "</style>\n",
       "<table border=\"1\" class=\"dataframe\">\n",
       "  <thead>\n",
       "    <tr style=\"text-align: right;\">\n",
       "      <th></th>\n",
       "      <th>count</th>\n",
       "      <th>mean</th>\n",
       "      <th>std</th>\n",
       "      <th>min</th>\n",
       "      <th>50%</th>\n",
       "      <th>90%</th>\n",
       "      <th>99%</th>\n",
       "      <th>max</th>\n",
       "    </tr>\n",
       "    <tr>\n",
       "      <th>data_kind</th>\n",
       "      <th></th>\n",
       "      <th></th>\n",
       "      <th></th>\n",
       "      <th></th>\n",
       "      <th></th>\n",
       "      <th></th>\n",
       "      <th></th>\n",
       "      <th></th>\n",
       "    </tr>\n",
       "  </thead>\n",
       "  <tbody>\n",
       "    <tr>\n",
       "      <th>random_domain3</th>\n",
       "      <td>300.0</td>\n",
       "      <td>1.126985</td>\n",
       "      <td>0.263615</td>\n",
       "      <td>0.722544</td>\n",
       "      <td>1.129181</td>\n",
       "      <td>1.471196</td>\n",
       "      <td>1.658474</td>\n",
       "      <td>1.837846</td>\n",
       "    </tr>\n",
       "    <tr>\n",
       "      <th>true</th>\n",
       "      <td>300.0</td>\n",
       "      <td>0.854565</td>\n",
       "      <td>0.281910</td>\n",
       "      <td>0.434561</td>\n",
       "      <td>0.842386</td>\n",
       "      <td>1.220949</td>\n",
       "      <td>1.438211</td>\n",
       "      <td>1.633520</td>\n",
       "    </tr>\n",
       "  </tbody>\n",
       "</table>\n",
       "</div>"
      ],
      "text/plain": [
       "                count      mean       std       min       50%       90%  \\\n",
       "data_kind                                                                 \n",
       "random_domain3  300.0  1.126985  0.263615  0.722544  1.129181  1.471196   \n",
       "true            300.0  0.854565  0.281910  0.434561  0.842386  1.220949   \n",
       "\n",
       "                     99%       max  \n",
       "data_kind                           \n",
       "random_domain3  1.658474  1.837846  \n",
       "true            1.438211  1.633520  "
      ]
     },
     "execution_count": 35,
     "metadata": {},
     "output_type": "execute_result"
    }
   ],
   "source": [
    "df.groupby([\"data_kind\"])[\"rt\"].describe(percentiles=[0.9, 0.99])"
   ]
  },
  {
   "cell_type": "code",
   "execution_count": 36,
   "id": "6e7ea990",
   "metadata": {},
   "outputs": [],
   "source": [
    "tmp = df.groupby([\"ehash\", \"data_kind\"])[[\"rt\"]].mean().reset_index()"
   ]
  },
  {
   "cell_type": "code",
   "execution_count": 37,
   "id": "d5b34440",
   "metadata": {},
   "outputs": [],
   "source": [
    "edf = tmp.set_index(['ehash', 'data_kind'])['rt'].unstack().reset_index()"
   ]
  },
  {
   "cell_type": "code",
   "execution_count": 38,
   "id": "5958c8d9",
   "metadata": {},
   "outputs": [],
   "source": [
    "#sns.scatterplot(data=edf, x = \"test_shuffle\", y=\"true_cols\", alpha=0.2)"
   ]
  },
  {
   "cell_type": "code",
   "execution_count": 40,
   "id": "b2716f1d",
   "metadata": {},
   "outputs": [
    {
     "data": {
      "text/plain": [
       "<AxesSubplot:xlabel='random_domain3', ylabel='true'>"
      ]
     },
     "execution_count": 40,
     "metadata": {},
     "output_type": "execute_result"
    },
    {
     "data": {
      "image/png": "[encoded data removed]",
      "text/plain": [
       "<Figure size 432x288 with 1 Axes>"
      ]
     },
     "metadata": {
      "needs_background": "light"
     },
     "output_type": "display_data"
    }
   ],
   "source": [
    "sns.scatterplot(data=edf, x = \"random_domain3\", y=\"true\", alpha=0.2)"
   ]
  },
  {
   "cell_type": "code",
   "execution_count": null,
   "id": "6ace6bc5",
   "metadata": {},
   "outputs": [],
   "source": []
  },
  {
   "cell_type": "code",
   "execution_count": null,
   "id": "86c59452",
   "metadata": {},
   "outputs": [],
   "source": []
  }
 ],
 "metadata": {
  "kernelspec": {
   "display_name": "Python 3 (ipykernel)",
   "language": "python",
   "name": "python3"
  },
  "language_info": {
   "codemirror_mode": {
    "name": "ipython",
    "version": 3
   },
   "file_extension": ".py",
   "mimetype": "text/x-python",
   "name": "python",
   "nbconvert_exporter": "python",
   "pygments_lexer": "ipython3",
   "version": "3.10.4"
  }
 },
 "nbformat": 4,
 "nbformat_minor": 5
}
