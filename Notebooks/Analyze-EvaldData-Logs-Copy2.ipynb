{
 "cells": [
  {
   "cell_type": "code",
   "execution_count": 1,
   "id": "e2a0b777",
   "metadata": {},
   "outputs": [],
   "source": [
    "import pandas as pd\n",
    "import numpy as np\n",
    "import glob\n",
    "import os\n",
    "from collections import defaultdict\n",
    "import seaborn as sns\n",
    "import matplotlib.pyplot as plt"
   ]
  },
  {
   "cell_type": "code",
   "execution_count": 2,
   "id": "31770174",
   "metadata": {},
   "outputs": [],
   "source": [
    "def extract_val(d, key):\n",
    "    val_start = d.find(key)\n",
    "    val_end = val_start + d[val_start:].find(\",\")\n",
    "    val = d[val_start:val_end].split(\"=\")[1]\n",
    "    return val.replace(\"'\", \"\")\n",
    "\n",
    "def load_logs(logfile):\n",
    "    with open(logfile, \"r\") as f:\n",
    "        data = f.readlines()\n",
    "    \n",
    "    retdata = defaultdict(list)\n",
    "    alg = None\n",
    "    \n",
    "    for d in data:\n",
    "        if \"data_kind\" in d:\n",
    "            data_kind = extract_val(d, \"data_kind\")\n",
    "            inp_to_eval = extract_val(d, \"inp_to_eval\")\n",
    "            nq = int(extract_val(d, \"num_queries\"))\n",
    "            wk = extract_val(d, \"workload\")\n",
    "            \n",
    "        if \"-->\" in d:\n",
    "            linedata = d.split(\" \")\n",
    "            ehash = linedata[5]\n",
    "            rt = float(linedata[-1].replace(\"\\n\", \"\"))\n",
    "            rep = int(linedata[-3])\n",
    "            retdata[\"ehash\"].append(ehash)\n",
    "            retdata[\"rt\"].append(rt)\n",
    "            retdata[\"rep\"].append(rep)\n",
    "            retdata[\"data_kind\"].append(str(data_kind))\n",
    "            retdata[\"inp_to_eval\"].append(inp_to_eval)\n",
    "            retdata[\"num_queries\"].append(nq)\n",
    "            retdata[\"workload\"].append(wk)\n",
    "            \n",
    "    df = pd.DataFrame(retdata)\n",
    "    return df"
   ]
  },
  {
   "cell_type": "code",
   "execution_count": 4,
   "id": "f26c42e6",
   "metadata": {},
   "outputs": [],
   "source": [
    "LOGDIR = \"../results3/\""
   ]
  },
  {
   "cell_type": "code",
   "execution_count": 5,
   "id": "bc6705c2",
   "metadata": {},
   "outputs": [],
   "source": [
    "fns = glob.glob(LOGDIR + \"*.log\")\n",
    "dfs = []\n",
    "\n",
    "for fn in fns:\n",
    "    df = load_logs(fn)\n",
    "    dfs.append(df)"
   ]
  },
  {
   "cell_type": "code",
   "execution_count": 6,
   "id": "a903c3f2",
   "metadata": {},
   "outputs": [],
   "source": [
    "df = pd.concat(dfs)"
   ]
  },
  {
   "cell_type": "code",
   "execution_count": 7,
   "id": "f6334a3c",
   "metadata": {},
   "outputs": [
    {
     "name": "stdout",
     "output_type": "stream",
     "text": [
      "{'random_domain', 'true_cols', 'random_domain2', 'test_shuffle', 'test', 'test_shuffle2', 'random_domain3'} {'mi', 'n'}\n"
     ]
    },
    {
     "data": {
      "text/html": [
       "<div>\n",
       "<style scoped>\n",
       "    .dataframe tbody tr th:only-of-type {\n",
       "        vertical-align: middle;\n",
       "    }\n",
       "\n",
       "    .dataframe tbody tr th {\n",
       "        vertical-align: top;\n",
       "    }\n",
       "\n",
       "    .dataframe thead th {\n",
       "        text-align: right;\n",
       "    }\n",
       "</style>\n",
       "<table border=\"1\" class=\"dataframe\">\n",
       "  <thead>\n",
       "    <tr style=\"text-align: right;\">\n",
       "      <th></th>\n",
       "      <th>ehash</th>\n",
       "      <th>rt</th>\n",
       "      <th>rep</th>\n",
       "      <th>data_kind</th>\n",
       "      <th>inp_to_eval</th>\n",
       "      <th>num_queries</th>\n",
       "      <th>workload</th>\n",
       "    </tr>\n",
       "  </thead>\n",
       "  <tbody>\n",
       "    <tr>\n",
       "      <th>0</th>\n",
       "      <td>1445181067565615963714989244604800786123047056644</td>\n",
       "      <td>0.662626</td>\n",
       "      <td>0</td>\n",
       "      <td>test_shuffle</td>\n",
       "      <td>mi</td>\n",
       "      <td>-1</td>\n",
       "      <td>ceb</td>\n",
       "    </tr>\n",
       "    <tr>\n",
       "      <th>1</th>\n",
       "      <td>915029170915645337045155848430817461122198949223</td>\n",
       "      <td>0.559800</td>\n",
       "      <td>0</td>\n",
       "      <td>test_shuffle</td>\n",
       "      <td>mi</td>\n",
       "      <td>-1</td>\n",
       "      <td>ceb</td>\n",
       "    </tr>\n",
       "    <tr>\n",
       "      <th>2</th>\n",
       "      <td>648840168530145489155498068332217171541974777094</td>\n",
       "      <td>0.361665</td>\n",
       "      <td>0</td>\n",
       "      <td>test_shuffle</td>\n",
       "      <td>mi</td>\n",
       "      <td>-1</td>\n",
       "      <td>ceb</td>\n",
       "    </tr>\n",
       "    <tr>\n",
       "      <th>3</th>\n",
       "      <td>939906722582594503280211484844109823221417696432</td>\n",
       "      <td>0.510334</td>\n",
       "      <td>0</td>\n",
       "      <td>test_shuffle</td>\n",
       "      <td>mi</td>\n",
       "      <td>-1</td>\n",
       "      <td>ceb</td>\n",
       "    </tr>\n",
       "    <tr>\n",
       "      <th>4</th>\n",
       "      <td>985595977828115300791443894398287667156903744520</td>\n",
       "      <td>0.770000</td>\n",
       "      <td>0</td>\n",
       "      <td>test_shuffle</td>\n",
       "      <td>mi</td>\n",
       "      <td>-1</td>\n",
       "      <td>ceb</td>\n",
       "    </tr>\n",
       "    <tr>\n",
       "      <th>...</th>\n",
       "      <td>...</td>\n",
       "      <td>...</td>\n",
       "      <td>...</td>\n",
       "      <td>...</td>\n",
       "      <td>...</td>\n",
       "      <td>...</td>\n",
       "      <td>...</td>\n",
       "    </tr>\n",
       "    <tr>\n",
       "      <th>1495</th>\n",
       "      <td>1299624255232658413272312278097928075737231130131</td>\n",
       "      <td>0.788095</td>\n",
       "      <td>2</td>\n",
       "      <td>true_cols</td>\n",
       "      <td>mi</td>\n",
       "      <td>500</td>\n",
       "      <td>ceb</td>\n",
       "    </tr>\n",
       "    <tr>\n",
       "      <th>1496</th>\n",
       "      <td>1441157686989587642835357661433565887978093833091</td>\n",
       "      <td>0.625724</td>\n",
       "      <td>2</td>\n",
       "      <td>true_cols</td>\n",
       "      <td>mi</td>\n",
       "      <td>500</td>\n",
       "      <td>ceb</td>\n",
       "    </tr>\n",
       "    <tr>\n",
       "      <th>1497</th>\n",
       "      <td>465426741020471148500893870355518756474025481076</td>\n",
       "      <td>0.545633</td>\n",
       "      <td>2</td>\n",
       "      <td>true_cols</td>\n",
       "      <td>mi</td>\n",
       "      <td>500</td>\n",
       "      <td>ceb</td>\n",
       "    </tr>\n",
       "    <tr>\n",
       "      <th>1498</th>\n",
       "      <td>589341992287659851723975230383292722010537580742</td>\n",
       "      <td>0.780929</td>\n",
       "      <td>2</td>\n",
       "      <td>true_cols</td>\n",
       "      <td>mi</td>\n",
       "      <td>500</td>\n",
       "      <td>ceb</td>\n",
       "    </tr>\n",
       "    <tr>\n",
       "      <th>1499</th>\n",
       "      <td>387915560946619823292682703896693803932208001903</td>\n",
       "      <td>0.625567</td>\n",
       "      <td>2</td>\n",
       "      <td>true_cols</td>\n",
       "      <td>mi</td>\n",
       "      <td>500</td>\n",
       "      <td>ceb</td>\n",
       "    </tr>\n",
       "  </tbody>\n",
       "</table>\n",
       "<p>36535 rows × 7 columns</p>\n",
       "</div>"
      ],
      "text/plain": [
       "                                                  ehash        rt  rep  \\\n",
       "0     1445181067565615963714989244604800786123047056644  0.662626    0   \n",
       "1      915029170915645337045155848430817461122198949223  0.559800    0   \n",
       "2      648840168530145489155498068332217171541974777094  0.361665    0   \n",
       "3      939906722582594503280211484844109823221417696432  0.510334    0   \n",
       "4      985595977828115300791443894398287667156903744520  0.770000    0   \n",
       "...                                                 ...       ...  ...   \n",
       "1495  1299624255232658413272312278097928075737231130131  0.788095    2   \n",
       "1496  1441157686989587642835357661433565887978093833091  0.625724    2   \n",
       "1497   465426741020471148500893870355518756474025481076  0.545633    2   \n",
       "1498   589341992287659851723975230383292722010537580742  0.780929    2   \n",
       "1499   387915560946619823292682703896693803932208001903  0.625567    2   \n",
       "\n",
       "         data_kind inp_to_eval  num_queries workload  \n",
       "0     test_shuffle          mi           -1      ceb  \n",
       "1     test_shuffle          mi           -1      ceb  \n",
       "2     test_shuffle          mi           -1      ceb  \n",
       "3     test_shuffle          mi           -1      ceb  \n",
       "4     test_shuffle          mi           -1      ceb  \n",
       "...            ...         ...          ...      ...  \n",
       "1495     true_cols          mi          500      ceb  \n",
       "1496     true_cols          mi          500      ceb  \n",
       "1497     true_cols          mi          500      ceb  \n",
       "1498     true_cols          mi          500      ceb  \n",
       "1499     true_cols          mi          500      ceb  \n",
       "\n",
       "[36535 rows x 7 columns]"
      ]
     },
     "execution_count": 7,
     "metadata": {},
     "output_type": "execute_result"
    }
   ],
   "source": [
    "print(set(df[\"data_kind\"]), set(df[\"inp_to_eval\"]))\n",
    "df"
   ]
  },
  {
   "cell_type": "code",
   "execution_count": 8,
   "id": "a5d10af0",
   "metadata": {},
   "outputs": [
    {
     "name": "stdout",
     "output_type": "stream",
     "text": [
      "Index(['ehash', 'rt', 'rep', 'data_kind', 'inp_to_eval', 'num_queries',\n",
      "       'workload'],\n",
      "      dtype='object')\n"
     ]
    }
   ],
   "source": [
    "print(df.keys())"
   ]
  },
  {
   "cell_type": "code",
   "execution_count": 17,
   "id": "c48a2b1a",
   "metadata": {},
   "outputs": [],
   "source": [
    "df = df[df.data_kind != 'random_domain']\n",
    "df = df[df.data_kind != 'test']\n",
    "df = df[df.data_kind != 'test_shuffle']\n",
    "df = df[df.inp_to_eval == 'mi']\n",
    "df = df[df.num_queries == 500]"
   ]
  },
  {
   "cell_type": "code",
   "execution_count": 18,
   "id": "8b2f12dc",
   "metadata": {},
   "outputs": [
    {
     "name": "stdout",
     "output_type": "stream",
     "text": [
      "{500}\n"
     ]
    }
   ],
   "source": [
    "print(set(df[\"num_queries\"]))"
   ]
  },
  {
   "cell_type": "code",
   "execution_count": 19,
   "id": "0e5f3589",
   "metadata": {},
   "outputs": [
    {
     "data": {
      "text/plain": [
       "data_kind\n",
       "random_domain2    1199.635576\n",
       "test_shuffle2     1200.973597\n",
       "true_cols         1237.360389\n",
       "Name: rt, dtype: float64"
      ]
     },
     "execution_count": 19,
     "metadata": {},
     "output_type": "execute_result"
    }
   ],
   "source": [
    "df.groupby([\"data_kind\"])[\"rt\"].sum()"
   ]
  },
  {
   "cell_type": "code",
   "execution_count": 20,
   "id": "2c16562c",
   "metadata": {},
   "outputs": [
    {
     "data": {
      "text/html": [
       "<div>\n",
       "<style scoped>\n",
       "    .dataframe tbody tr th:only-of-type {\n",
       "        vertical-align: middle;\n",
       "    }\n",
       "\n",
       "    .dataframe tbody tr th {\n",
       "        vertical-align: top;\n",
       "    }\n",
       "\n",
       "    .dataframe thead th {\n",
       "        text-align: right;\n",
       "    }\n",
       "</style>\n",
       "<table border=\"1\" class=\"dataframe\">\n",
       "  <thead>\n",
       "    <tr style=\"text-align: right;\">\n",
       "      <th></th>\n",
       "      <th>count</th>\n",
       "      <th>mean</th>\n",
       "      <th>std</th>\n",
       "      <th>min</th>\n",
       "      <th>50%</th>\n",
       "      <th>90%</th>\n",
       "      <th>99%</th>\n",
       "      <th>max</th>\n",
       "    </tr>\n",
       "    <tr>\n",
       "      <th>data_kind</th>\n",
       "      <th></th>\n",
       "      <th></th>\n",
       "      <th></th>\n",
       "      <th></th>\n",
       "      <th></th>\n",
       "      <th></th>\n",
       "      <th></th>\n",
       "      <th></th>\n",
       "    </tr>\n",
       "  </thead>\n",
       "  <tbody>\n",
       "    <tr>\n",
       "      <th>random_domain2</th>\n",
       "      <td>1500.0</td>\n",
       "      <td>0.799757</td>\n",
       "      <td>0.301890</td>\n",
       "      <td>0.357132</td>\n",
       "      <td>0.802876</td>\n",
       "      <td>1.209203</td>\n",
       "      <td>1.559792</td>\n",
       "      <td>1.766523</td>\n",
       "    </tr>\n",
       "    <tr>\n",
       "      <th>test_shuffle2</th>\n",
       "      <td>1500.0</td>\n",
       "      <td>0.800649</td>\n",
       "      <td>0.289292</td>\n",
       "      <td>0.374123</td>\n",
       "      <td>0.803963</td>\n",
       "      <td>1.199163</td>\n",
       "      <td>1.523496</td>\n",
       "      <td>1.672907</td>\n",
       "    </tr>\n",
       "    <tr>\n",
       "      <th>true_cols</th>\n",
       "      <td>1500.0</td>\n",
       "      <td>0.824907</td>\n",
       "      <td>0.285874</td>\n",
       "      <td>0.408045</td>\n",
       "      <td>0.831705</td>\n",
       "      <td>1.221393</td>\n",
       "      <td>1.544603</td>\n",
       "      <td>1.700002</td>\n",
       "    </tr>\n",
       "  </tbody>\n",
       "</table>\n",
       "</div>"
      ],
      "text/plain": [
       "                 count      mean       std       min       50%       90%  \\\n",
       "data_kind                                                                  \n",
       "random_domain2  1500.0  0.799757  0.301890  0.357132  0.802876  1.209203   \n",
       "test_shuffle2   1500.0  0.800649  0.289292  0.374123  0.803963  1.199163   \n",
       "true_cols       1500.0  0.824907  0.285874  0.408045  0.831705  1.221393   \n",
       "\n",
       "                     99%       max  \n",
       "data_kind                           \n",
       "random_domain2  1.559792  1.766523  \n",
       "test_shuffle2   1.523496  1.672907  \n",
       "true_cols       1.544603  1.700002  "
      ]
     },
     "execution_count": 20,
     "metadata": {},
     "output_type": "execute_result"
    }
   ],
   "source": [
    "df.groupby([\"data_kind\"])[\"rt\"].describe(percentiles=[0.9, 0.99])"
   ]
  },
  {
   "cell_type": "code",
   "execution_count": 13,
   "id": "6e7ea990",
   "metadata": {},
   "outputs": [],
   "source": [
    "tmp = df.groupby([\"ehash\", \"data_kind\"])[[\"rt\"]].mean().reset_index()"
   ]
  },
  {
   "cell_type": "code",
   "execution_count": 14,
   "id": "d5b34440",
   "metadata": {},
   "outputs": [],
   "source": [
    "edf = tmp.set_index(['ehash', 'data_kind'])['rt'].unstack().reset_index()"
   ]
  },
  {
   "cell_type": "code",
   "execution_count": 15,
   "id": "5958c8d9",
   "metadata": {},
   "outputs": [
    {
     "data": {
      "text/plain": [
       "<AxesSubplot:xlabel='test_shuffle2', ylabel='true_cols'>"
      ]
     },
     "execution_count": 15,
     "metadata": {},
     "output_type": "execute_result"
    },
    {
     "data": {
      "image/png": "[encoded data removed]",
      "text/plain": [
       "<Figure size 432x288 with 1 Axes>"
      ]
     },
     "metadata": {
      "needs_background": "light"
     },
     "output_type": "display_data"
    }
   ],
   "source": [
    "sns.scatterplot(data=edf, x = \"test_shuffle2\", y=\"true_cols\", alpha=0.2)"
   ]
  },
  {
   "cell_type": "code",
   "execution_count": 16,
   "id": "b2716f1d",
   "metadata": {},
   "outputs": [
    {
     "data": {
      "text/plain": [
       "<AxesSubplot:xlabel='random_domain2', ylabel='true_cols'>"
      ]
     },
     "execution_count": 16,
     "metadata": {},
     "output_type": "execute_result"
    },
    {
     "data": {
      "image/png": "[encoded data removed]",
      "text/plain": [
       "<Figure size 432x288 with 1 Axes>"
      ]
     },
     "metadata": {
      "needs_background": "light"
     },
     "output_type": "display_data"
    }
   ],
   "source": [
    "sns.scatterplot(data=edf, x = \"random_domain2\", y=\"true_cols\", alpha=0.2)"
   ]
  },
  {
   "cell_type": "code",
   "execution_count": null,
   "id": "553dc12a",
   "metadata": {},
   "outputs": [],
   "source": []
  }
 ],
 "metadata": {
  "kernelspec": {
   "display_name": "Python 3 (ipykernel)",
   "language": "python",
   "name": "python3"
  },
  "language_info": {
   "codemirror_mode": {
    "name": "ipython",
    "version": 3
   },
   "file_extension": ".py",
   "mimetype": "text/x-python",
   "name": "python",
   "nbconvert_exporter": "python",
   "pygments_lexer": "ipython3",
   "version": "3.10.4"
  }
 },
 "nbformat": 4,
 "nbformat_minor": 5
}
