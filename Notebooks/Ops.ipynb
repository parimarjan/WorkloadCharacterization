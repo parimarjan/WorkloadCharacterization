{
 "cells": [
  {
   "cell_type": "code",
   "execution_count": 1,
   "id": "7acd85e1",
   "metadata": {},
   "outputs": [],
   "source": [
    "import pandas as pd\n",
    "import numpy as np\n",
    "import matplotlib.pyplot as plt\n",
    "import seaborn as sns\n",
    "import json\n",
    "from collections import defaultdict\n",
    "import os\n",
    "\n",
    "from IPython.display import HTML\n",
    "from IPython.display import display_html\n",
    "\n",
    "%load_ext autoreload\n",
    "%autoreload 2\n",
    "\n",
    "import sys\n",
    "sys.path.append(\"..\")\n",
    "from utils.utils import *\n",
    "\n",
    "import networkx as nx"
   ]
  },
  {
   "cell_type": "code",
   "execution_count": 2,
   "id": "80df13bc",
   "metadata": {},
   "outputs": [],
   "source": [
    "FN = \"../data/cosmos09/raw_views_ophashes_2021-12-15.ss.csv\"\n",
    "#DEDUPFN = FN.replace(\".ss.csv\", \"-dedup.ss.csv\")\n",
    "#INP_FIELD = \"NormInputHashCode\"\n",
    "#FILTER_FIELD = \"FilterExpr\""
   ]
  },
  {
   "cell_type": "code",
   "execution_count": 3,
   "id": "259f2e6f",
   "metadata": {},
   "outputs": [],
   "source": [
    "df = pd.read_csv(FN, sep=\"\\t\")"
   ]
  },
  {
   "cell_type": "code",
   "execution_count": 4,
   "id": "11246bff",
   "metadata": {},
   "outputs": [
    {
     "name": "stdout",
     "output_type": "stream",
     "text": [
      "Index(['JobGUID', 'HashTag', 'HashTagInput', 'HashTagRoot', 'HashTagParent',\n",
      "       'OperatorName'],\n",
      "      dtype='object')\n"
     ]
    }
   ],
   "source": [
    "print(df.keys())"
   ]
  },
  {
   "cell_type": "code",
   "execution_count": null,
   "id": "c287d6ee",
   "metadata": {},
   "outputs": [],
   "source": [
    "df.groupby(\"OperatorName\").describe(percentiles=[0.9,0.99])[\"HashTag\"].reset_index().sort_values(by=\"count\",\n",
    "                                                                                                ascending=False)"
   ]
  },
  {
   "cell_type": "code",
   "execution_count": 23,
   "id": "7853f73c",
   "metadata": {},
   "outputs": [
    {
     "name": "stdout",
     "output_type": "stream",
     "text": [
      "61169443\n",
      "1727268\n",
      "2500708\n",
      "29\n"
     ]
    }
   ],
   "source": [
    "print(len(df))\n",
    "print(len(set(df[\"JobGUID\"])))\n",
    "print(len(set(df[\"HashTagRoot\"])))\n",
    "print(len(set(df[\"OperatorName\"])))"
   ]
  },
  {
   "cell_type": "code",
   "execution_count": 24,
   "id": "1afdbf6e",
   "metadata": {},
   "outputs": [
    {
     "name": "stdout",
     "output_type": "stream",
     "text": [
      "{'PhyOp_ComputeScalar', 'PhyOp_Filter', 'PhyOp_RestrRemap', 'PhyOp_Sort', 'PhyOp_Spool', 'PhyOp_Process', 'PhyOp_ConstTableScan', 'PhyOp_HashGbAgg', 'PhyOp_Top', 'PhyOp_Extract', 'PhyOp_NOP', 'PhyOp_UnionAll', 'PhyOp_HashJoin', 'PhyOp_VirtualDataset', 'PhyOp_GbApply', 'PhyOp_Range', 'PhyOp_MergeJoin', 'PhyOp_Exchange', 'PhyOp_StreamGbAgg', 'PhyOp_LoopsJoin', 'PhyOp_Output', 'PhyOp_ComputeSequence', 'PhyOp_Reduce', 'PhyOp_Combine', 'PhyOp_Write', 'PhyOp_Update', 'PhyOp_Window', 'PhyOp_IdxLookup', 'PhyOp_Sampler'}\n"
     ]
    }
   ],
   "source": [
    "print(set(df[\"OperatorName\"]))"
   ]
  },
  {
   "cell_type": "code",
   "execution_count": 25,
   "id": "4ebd6f72",
   "metadata": {},
   "outputs": [],
   "source": [
    "jguids = df[\"JobGUID\"].sample(500).values"
   ]
  },
  {
   "cell_type": "code",
   "execution_count": 26,
   "id": "2517a5a3",
   "metadata": {},
   "outputs": [],
   "source": [
    "df = df[df[\"JobGUID\"].isin(jguids)]"
   ]
  },
  {
   "cell_type": "code",
   "execution_count": 28,
   "id": "3bfa8e9f",
   "metadata": {},
   "outputs": [
    {
     "name": "stdout",
     "output_type": "stream",
     "text": [
      "Index(['JobGUID', 'HashTag', 'HashTagInput', 'HashTagRoot', 'HashTagParent',\n",
      "       'OperatorName'],\n",
      "      dtype='object')\n"
     ]
    }
   ],
   "source": [
    "print(df.keys())"
   ]
  },
  {
   "cell_type": "code",
   "execution_count": null,
   "id": "df8ba0cb",
   "metadata": {},
   "outputs": [],
   "source": [
    "def make_graph(df):\n",
    "    G = nx.Graph()\n",
    "    #roots = df[\"HashTagRoot\"]\n",
    "    for _,row in df.iterrows():\n",
    "        node = row[\"HashTag\"]\n",
    "        G.add_node(node)\n",
    "        if row[\"HashTag\"] == row[\"HashTagRoot\"]:\n",
    "            G.nodes()[node][\"root\"] = True\n",
    "            assert False\n",
    "        else:\n",
    "            G.nodes()[node][\"root\"] = False\n",
    "        G.nodes()[node][\"op\"] = row[\"OperatorName\"]\n",
    "    \n",
    "    for _,row in df.iterrows():\n",
    "        if row[\"HashTagParent\"] not in G.nodes():\n",
    "            G.add_node(row[\"HashTagParent\"])\n",
    "            G.nodes()[row[\"HashTagParent\"]][\"root\"] = False\n",
    "            G.nodes()[row[\"HashTagParent\"]][\"op\"] = \"top\"\n",
    "            assert row[\"HashTagParent\"] != row[\"HashTagRoot\"]\n",
    "        \n",
    "        assert row[\"HashTag\"] in G.nodes()\n",
    "        assert row[\"HashTagParent\"] in G.nodes()\n",
    "        G.add_edge(row[\"HashTagParent\"], row[\"HashTag\"])\n",
    "\n",
    "    toremove = []\n",
    "    for node in G.nodes():\n",
    "        assert \"op\" in G.nodes()[node]\n",
    "#         if G.in_degree(node) == 0 and G.out_degree(node) == 0:\n",
    "#             toremove.append(node)\n",
    "        if G.degree(node) == 0:\n",
    "            toremove.append(node)\n",
    "            \n",
    "    for node in toremove:\n",
    "        G.remove_node(node)\n",
    "    \n",
    "    return G"
   ]
  },
  {
   "cell_type": "code",
   "execution_count": null,
   "id": "2674604f",
   "metadata": {},
   "outputs": [],
   "source": [
    "nodelabels = {}\n",
    "nodelabels[\"join\"] = \"red\"\n",
    "nodelabels[\"root\"] = \"blue\"\n",
    "nodelabels[\"gbapply\"] = \"grey\""
   ]
  },
  {
   "cell_type": "code",
   "execution_count": null,
   "id": "661c655e",
   "metadata": {},
   "outputs": [],
   "source": [
    "def draw_plan(G):\n",
    "    plt.figure(figsize=(18,6)) \n",
    "    pos = nx.nx_pydot.pydot_layout(G, prog=\"dot\")\n",
    "    colors = {}\n",
    "    colors = []\n",
    "    for node in G.nodes():\n",
    "        if \"join\" in G.nodes()[node][\"op\"].lower():\n",
    "            #colors[node] = nodelabels[\"join\"]\n",
    "            colors.append(nodelabels[\"join\"])\n",
    "        elif G.nodes()[node][\"root\"]:\n",
    "            #colors[node] = nodelabels[\"root\"]\n",
    "            colors.append(nodelabels[\"root\"])\n",
    "        elif \"gbapply\" in G.nodes()[node][\"op\"].lower():\n",
    "            #colors[node] = nodelabels[\"gbapply\"]\n",
    "            colors.append(nodelabels[\"gbapply\"])\n",
    "        else:\n",
    "            #colors[node] = \"black\"\n",
    "            colors.append(\"black\")\n",
    "                \n",
    "    # make empty plot with correct color and label for each group\n",
    "    nx.draw(G, pos=pos, \n",
    "            node_size=1000,\n",
    "            node_color=colors,\n",
    "            font_size=12)\n",
    "    for k,v in nodelabels.items():\n",
    "        plt.scatter([],[], c=v, label=k)\n",
    "    plt.legend()\n",
    "    plt.show()"
   ]
  },
  {
   "cell_type": "code",
   "execution_count": 114,
   "id": "e40ec390",
   "metadata": {},
   "outputs": [],
   "source": [
    "for jobguid in set(df[\"JobGUID\"]):\n",
    "    tmp = df[df[\"JobGUID\"] == jobguid]\n",
    "    G = make_graph(tmp)\n",
    "    #draw_plan(G)"
   ]
  },
  {
   "cell_type": "code",
   "execution_count": null,
   "id": "966f8073",
   "metadata": {},
   "outputs": [],
   "source": []
  },
  {
   "cell_type": "code",
   "execution_count": null,
   "id": "b942578a",
   "metadata": {},
   "outputs": [],
   "source": []
  }
 ],
 "metadata": {
  "kernelspec": {
   "display_name": "Python 3 (ipykernel)",
   "language": "python",
   "name": "python3"
  },
  "language_info": {
   "codemirror_mode": {
    "name": "ipython",
    "version": 3
   },
   "file_extension": ".py",
   "mimetype": "text/x-python",
   "name": "python",
   "nbconvert_exporter": "python",
   "pygments_lexer": "ipython3",
   "version": "3.9.7"
  }
 },
 "nbformat": 4,
 "nbformat_minor": 5
}
