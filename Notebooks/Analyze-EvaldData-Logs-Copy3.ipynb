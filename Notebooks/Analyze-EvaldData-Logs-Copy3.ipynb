{
 "cells": [
  {
   "cell_type": "code",
   "execution_count": 8,
   "id": "e2a0b777",
   "metadata": {},
   "outputs": [],
   "source": [
    "import pandas as pd\n",
    "import numpy as np\n",
    "import glob\n",
    "import os\n",
    "from collections import defaultdict\n",
    "import seaborn as sns\n",
    "import matplotlib.pyplot as plt"
   ]
  },
  {
   "cell_type": "code",
   "execution_count": 13,
   "id": "31770174",
   "metadata": {},
   "outputs": [],
   "source": [
    "def extract_val(d, key):\n",
    "    val_start = d.find(key)\n",
    "    val_end = val_start + d[val_start:].find(\",\")\n",
    "    val = d[val_start:val_end].split(\"=\")[1]\n",
    "    return val.replace(\"'\", \"\")\n",
    "\n",
    "def load_logs(logfile):\n",
    "    with open(logfile, \"r\") as f:\n",
    "        data = f.readlines()\n",
    "    \n",
    "    retdata = defaultdict(list)\n",
    "    alg = None\n",
    "    \n",
    "    for d in data:\n",
    "        if \"data_kind\" in d:\n",
    "            data_kind = extract_val(d, \"data_kind\")\n",
    "            inp_to_eval = extract_val(d, \"inp_to_eval\")\n",
    "            nq = int(extract_val(d, \"num_queries\"))\n",
    "            wk = extract_val(d, \"workload\")\n",
    "            \n",
    "        if \"-->\" in d:\n",
    "            linedata = d.split(\" \")\n",
    "            ehash = linedata[5]\n",
    "            rt = float(linedata[-1].replace(\"\\n\", \"\"))\n",
    "            rep = int(linedata[-3])\n",
    "            retdata[\"ehash\"].append(ehash)\n",
    "            retdata[\"rt\"].append(rt)\n",
    "            retdata[\"rep\"].append(rep)\n",
    "            retdata[\"data_kind\"].append(str(data_kind))\n",
    "            retdata[\"inp_to_eval\"].append(inp_to_eval)\n",
    "            retdata[\"num_queries\"].append(nq)\n",
    "            retdata[\"workload\"].append(wk)\n",
    "        \n",
    "        if \"QError\" in d:\n",
    "            print(inp_to_eval)\n",
    "            print(data_kind)\n",
    "            print(d)\n",
    "            \n",
    "    df = pd.DataFrame(retdata)\n",
    "    return df"
   ]
  },
  {
   "cell_type": "code",
   "execution_count": 14,
   "id": "f26c42e6",
   "metadata": {},
   "outputs": [],
   "source": [
    "LOGDIR = \"../results/\""
   ]
  },
  {
   "cell_type": "code",
   "execution_count": 15,
   "id": "bc6705c2",
   "metadata": {},
   "outputs": [
    {
     "name": "stdout",
     "output_type": "stream",
     "text": [
      "n\n",
      "random_domain2\n",
      "[2022-05-14 08:01:21,245] {eval_data.py:162} INFO - QError, mean: 752.3882076052228, median: 1.542867180969178, 90p: 5.689734839454503\n",
      "\n",
      "n\n",
      "test_shuffle2\n",
      "[2022-05-15 06:29:05,028] {eval_data.py:162} INFO - QError, mean: 4711.038480996889, median: 1.001356763844805, 90p: 163.40336041692473\n",
      "\n",
      "mi\n",
      "random_domain2\n",
      "[2022-05-15 04:02:41,449] {eval_data.py:162} INFO - QError, mean: 771.9163468684768, median: 2.529184819694504, 90p: 8.857875883434989\n",
      "\n",
      "mi\n",
      "test_shuffle2\n",
      "[2022-05-15 00:13:58,089] {eval_data.py:162} INFO - QError, mean: 706.216994993233, median: 1.050012585759124, 90p: 2.7059053525684233\n",
      "\n",
      "mi\n",
      "true_cols\n",
      "[2022-05-14 17:08:28,002] {eval_data.py:162} INFO - QError, mean: 1.0251791018046714, median: 1.0, 90p: 1.0\n",
      "\n",
      "n\n",
      "test_shuffle2\n",
      "[2022-05-14 07:56:25,536] {eval_data.py:162} INFO - QError, mean: 1677.3921304360906, median: 1.001356763844805, 90p: 56.01075859252573\n",
      "\n",
      "mi\n",
      "random_domain2\n",
      "[2022-05-14 07:19:59,783] {eval_data.py:162} INFO - QError, mean: 1089.193606822838, median: 2.5627642062708853, 90p: 8.857875883434989\n",
      "\n",
      "mi\n",
      "true_cols\n",
      "[2022-05-14 05:51:07,341] {eval_data.py:162} INFO - QError, mean: 1.0176317761551386, median: 1.0, 90p: 1.0\n",
      "\n",
      "mi\n",
      "test_shuffle2\n",
      "[2022-05-14 06:47:41,460] {eval_data.py:162} INFO - QError, mean: 943.7665219102684, median: 1.0522544261707523, 90p: 3.0666913846568744\n",
      "\n",
      "n\n",
      "true_cols\n",
      "[2022-05-15 04:19:29,458] {eval_data.py:162} INFO - QError, mean: 2745.866680757952, median: 1.0, 90p: 2.853346371596301\n",
      "\n",
      "n\n",
      "random_domain2\n",
      "[2022-05-15 06:49:40,996] {eval_data.py:162} INFO - QError, mean: 5178.511766293641, median: 1.542867180969178, 90p: 7.167860041780848\n",
      "\n",
      "n\n",
      "true_cols\n",
      "[2022-05-14 07:23:58,220] {eval_data.py:162} INFO - QError, mean: 2.1887772456138403, median: 1.0, 90p: 2.6941888074536604\n",
      "\n"
     ]
    }
   ],
   "source": [
    "fns = glob.glob(LOGDIR + \"*.log\")\n",
    "dfs = []\n",
    "\n",
    "for fn in fns:\n",
    "    df = load_logs(fn)\n",
    "    dfs.append(df)"
   ]
  },
  {
   "cell_type": "code",
   "execution_count": 29,
   "id": "a903c3f2",
   "metadata": {},
   "outputs": [],
   "source": [
    "df = pd.concat(dfs)"
   ]
  },
  {
   "cell_type": "code",
   "execution_count": 30,
   "id": "f6334a3c",
   "metadata": {},
   "outputs": [
    {
     "name": "stdout",
     "output_type": "stream",
     "text": [
      "{'true_cols', 'test_shuffle2', 'random_domain2'} {'mi', 'n'}\n"
     ]
    },
    {
     "data": {
      "text/html": [
       "<div>\n",
       "<style scoped>\n",
       "    .dataframe tbody tr th:only-of-type {\n",
       "        vertical-align: middle;\n",
       "    }\n",
       "\n",
       "    .dataframe tbody tr th {\n",
       "        vertical-align: top;\n",
       "    }\n",
       "\n",
       "    .dataframe thead th {\n",
       "        text-align: right;\n",
       "    }\n",
       "</style>\n",
       "<table border=\"1\" class=\"dataframe\">\n",
       "  <thead>\n",
       "    <tr style=\"text-align: right;\">\n",
       "      <th></th>\n",
       "      <th>ehash</th>\n",
       "      <th>rt</th>\n",
       "      <th>rep</th>\n",
       "      <th>data_kind</th>\n",
       "      <th>inp_to_eval</th>\n",
       "      <th>num_queries</th>\n",
       "      <th>workload</th>\n",
       "    </tr>\n",
       "  </thead>\n",
       "  <tbody>\n",
       "    <tr>\n",
       "      <th>0</th>\n",
       "      <td>1412706111350165054529954383171903240337882399016</td>\n",
       "      <td>0.473330</td>\n",
       "      <td>0</td>\n",
       "      <td>random_domain2</td>\n",
       "      <td>n</td>\n",
       "      <td>500</td>\n",
       "      <td>ceb</td>\n",
       "    </tr>\n",
       "    <tr>\n",
       "      <th>1</th>\n",
       "      <td>845697540102295928657811596227970506096002273384</td>\n",
       "      <td>0.512285</td>\n",
       "      <td>0</td>\n",
       "      <td>random_domain2</td>\n",
       "      <td>n</td>\n",
       "      <td>500</td>\n",
       "      <td>ceb</td>\n",
       "    </tr>\n",
       "    <tr>\n",
       "      <th>2</th>\n",
       "      <td>428479027960649776600128440654385951132899596406</td>\n",
       "      <td>0.136692</td>\n",
       "      <td>0</td>\n",
       "      <td>random_domain2</td>\n",
       "      <td>n</td>\n",
       "      <td>500</td>\n",
       "      <td>ceb</td>\n",
       "    </tr>\n",
       "    <tr>\n",
       "      <th>3</th>\n",
       "      <td>84075949613328714275869842821526357397337767243</td>\n",
       "      <td>0.133870</td>\n",
       "      <td>0</td>\n",
       "      <td>random_domain2</td>\n",
       "      <td>n</td>\n",
       "      <td>500</td>\n",
       "      <td>ceb</td>\n",
       "    </tr>\n",
       "    <tr>\n",
       "      <th>4</th>\n",
       "      <td>1331203710710213837019143823676324531895931998752</td>\n",
       "      <td>0.265568</td>\n",
       "      <td>0</td>\n",
       "      <td>random_domain2</td>\n",
       "      <td>n</td>\n",
       "      <td>500</td>\n",
       "      <td>ceb</td>\n",
       "    </tr>\n",
       "    <tr>\n",
       "      <th>...</th>\n",
       "      <td>...</td>\n",
       "      <td>...</td>\n",
       "      <td>...</td>\n",
       "      <td>...</td>\n",
       "      <td>...</td>\n",
       "      <td>...</td>\n",
       "      <td>...</td>\n",
       "    </tr>\n",
       "    <tr>\n",
       "      <th>1495</th>\n",
       "      <td>1063466332439605995761783624533110685102934053128</td>\n",
       "      <td>0.111993</td>\n",
       "      <td>2</td>\n",
       "      <td>true_cols</td>\n",
       "      <td>n</td>\n",
       "      <td>500</td>\n",
       "      <td>ceb</td>\n",
       "    </tr>\n",
       "    <tr>\n",
       "      <th>1496</th>\n",
       "      <td>216408456000682405708249478876159637241851169399</td>\n",
       "      <td>0.153612</td>\n",
       "      <td>2</td>\n",
       "      <td>true_cols</td>\n",
       "      <td>n</td>\n",
       "      <td>500</td>\n",
       "      <td>ceb</td>\n",
       "    </tr>\n",
       "    <tr>\n",
       "      <th>1497</th>\n",
       "      <td>1425979425022617961196684811888845962957194079395</td>\n",
       "      <td>0.115123</td>\n",
       "      <td>2</td>\n",
       "      <td>true_cols</td>\n",
       "      <td>n</td>\n",
       "      <td>500</td>\n",
       "      <td>ceb</td>\n",
       "    </tr>\n",
       "    <tr>\n",
       "      <th>1498</th>\n",
       "      <td>207133359698626392416029221914781840852700798979</td>\n",
       "      <td>0.151144</td>\n",
       "      <td>2</td>\n",
       "      <td>true_cols</td>\n",
       "      <td>n</td>\n",
       "      <td>500</td>\n",
       "      <td>ceb</td>\n",
       "    </tr>\n",
       "    <tr>\n",
       "      <th>1499</th>\n",
       "      <td>353785665163398072814104917921269351361663177397</td>\n",
       "      <td>0.114917</td>\n",
       "      <td>2</td>\n",
       "      <td>true_cols</td>\n",
       "      <td>n</td>\n",
       "      <td>500</td>\n",
       "      <td>ceb</td>\n",
       "    </tr>\n",
       "  </tbody>\n",
       "</table>\n",
       "<p>60246 rows × 7 columns</p>\n",
       "</div>"
      ],
      "text/plain": [
       "                                                  ehash        rt  rep  \\\n",
       "0     1412706111350165054529954383171903240337882399016  0.473330    0   \n",
       "1      845697540102295928657811596227970506096002273384  0.512285    0   \n",
       "2      428479027960649776600128440654385951132899596406  0.136692    0   \n",
       "3       84075949613328714275869842821526357397337767243  0.133870    0   \n",
       "4     1331203710710213837019143823676324531895931998752  0.265568    0   \n",
       "...                                                 ...       ...  ...   \n",
       "1495  1063466332439605995761783624533110685102934053128  0.111993    2   \n",
       "1496   216408456000682405708249478876159637241851169399  0.153612    2   \n",
       "1497  1425979425022617961196684811888845962957194079395  0.115123    2   \n",
       "1498   207133359698626392416029221914781840852700798979  0.151144    2   \n",
       "1499   353785665163398072814104917921269351361663177397  0.114917    2   \n",
       "\n",
       "           data_kind inp_to_eval  num_queries workload  \n",
       "0     random_domain2           n          500      ceb  \n",
       "1     random_domain2           n          500      ceb  \n",
       "2     random_domain2           n          500      ceb  \n",
       "3     random_domain2           n          500      ceb  \n",
       "4     random_domain2           n          500      ceb  \n",
       "...              ...         ...          ...      ...  \n",
       "1495       true_cols           n          500      ceb  \n",
       "1496       true_cols           n          500      ceb  \n",
       "1497       true_cols           n          500      ceb  \n",
       "1498       true_cols           n          500      ceb  \n",
       "1499       true_cols           n          500      ceb  \n",
       "\n",
       "[60246 rows x 7 columns]"
      ]
     },
     "execution_count": 30,
     "metadata": {},
     "output_type": "execute_result"
    }
   ],
   "source": [
    "print(set(df[\"data_kind\"]), set(df[\"inp_to_eval\"]))\n",
    "df"
   ]
  },
  {
   "cell_type": "code",
   "execution_count": 31,
   "id": "a5d10af0",
   "metadata": {},
   "outputs": [
    {
     "name": "stdout",
     "output_type": "stream",
     "text": [
      "Index(['ehash', 'rt', 'rep', 'data_kind', 'inp_to_eval', 'num_queries',\n",
      "       'workload'],\n",
      "      dtype='object')\n"
     ]
    }
   ],
   "source": [
    "print(df.keys())"
   ]
  },
  {
   "cell_type": "code",
   "execution_count": 32,
   "id": "c48a2b1a",
   "metadata": {},
   "outputs": [],
   "source": [
    "#df = df[df.data_kind != 'random_domain']\n",
    "df = df[df.inp_to_eval == 'mi']\n",
    "df = df[df.num_queries == -1]"
   ]
  },
  {
   "cell_type": "code",
   "execution_count": 33,
   "id": "8b2f12dc",
   "metadata": {},
   "outputs": [
    {
     "name": "stdout",
     "output_type": "stream",
     "text": [
      "{-1}\n"
     ]
    }
   ],
   "source": [
    "print(set(df[\"num_queries\"]))"
   ]
  },
  {
   "cell_type": "code",
   "execution_count": 34,
   "id": "0e5f3589",
   "metadata": {},
   "outputs": [
    {
     "data": {
      "text/plain": [
       "data_kind\n",
       "random_domain2    13718.868159\n",
       "test_shuffle2     25525.967314\n",
       "true_cols         32822.757414\n",
       "Name: rt, dtype: float64"
      ]
     },
     "execution_count": 34,
     "metadata": {},
     "output_type": "execute_result"
    }
   ],
   "source": [
    "df.groupby([\"data_kind\"])[\"rt\"].sum()"
   ]
  },
  {
   "cell_type": "code",
   "execution_count": 35,
   "id": "2c16562c",
   "metadata": {},
   "outputs": [
    {
     "data": {
      "text/html": [
       "<div>\n",
       "<style scoped>\n",
       "    .dataframe tbody tr th:only-of-type {\n",
       "        vertical-align: middle;\n",
       "    }\n",
       "\n",
       "    .dataframe tbody tr th {\n",
       "        vertical-align: top;\n",
       "    }\n",
       "\n",
       "    .dataframe thead th {\n",
       "        text-align: right;\n",
       "    }\n",
       "</style>\n",
       "<table border=\"1\" class=\"dataframe\">\n",
       "  <thead>\n",
       "    <tr style=\"text-align: right;\">\n",
       "      <th></th>\n",
       "      <th>count</th>\n",
       "      <th>mean</th>\n",
       "      <th>std</th>\n",
       "      <th>min</th>\n",
       "      <th>50%</th>\n",
       "      <th>90%</th>\n",
       "      <th>99%</th>\n",
       "      <th>max</th>\n",
       "    </tr>\n",
       "    <tr>\n",
       "      <th>data_kind</th>\n",
       "      <th></th>\n",
       "      <th></th>\n",
       "      <th></th>\n",
       "      <th></th>\n",
       "      <th></th>\n",
       "      <th></th>\n",
       "      <th></th>\n",
       "      <th></th>\n",
       "    </tr>\n",
       "  </thead>\n",
       "  <tbody>\n",
       "    <tr>\n",
       "      <th>random_domain2</th>\n",
       "      <td>11175.0</td>\n",
       "      <td>1.227639</td>\n",
       "      <td>0.198702</td>\n",
       "      <td>0.860783</td>\n",
       "      <td>1.194423</td>\n",
       "      <td>1.520516</td>\n",
       "      <td>1.828948</td>\n",
       "      <td>2.002681</td>\n",
       "    </tr>\n",
       "    <tr>\n",
       "      <th>test_shuffle2</th>\n",
       "      <td>11175.0</td>\n",
       "      <td>2.284203</td>\n",
       "      <td>0.144830</td>\n",
       "      <td>1.863653</td>\n",
       "      <td>2.286995</td>\n",
       "      <td>2.478333</td>\n",
       "      <td>2.636658</td>\n",
       "      <td>2.771922</td>\n",
       "    </tr>\n",
       "    <tr>\n",
       "      <th>true_cols</th>\n",
       "      <td>11175.0</td>\n",
       "      <td>2.937160</td>\n",
       "      <td>0.141678</td>\n",
       "      <td>2.549719</td>\n",
       "      <td>2.926577</td>\n",
       "      <td>3.137953</td>\n",
       "      <td>3.249693</td>\n",
       "      <td>3.451296</td>\n",
       "    </tr>\n",
       "  </tbody>\n",
       "</table>\n",
       "</div>"
      ],
      "text/plain": [
       "                  count      mean       std       min       50%       90%  \\\n",
       "data_kind                                                                   \n",
       "random_domain2  11175.0  1.227639  0.198702  0.860783  1.194423  1.520516   \n",
       "test_shuffle2   11175.0  2.284203  0.144830  1.863653  2.286995  2.478333   \n",
       "true_cols       11175.0  2.937160  0.141678  2.549719  2.926577  3.137953   \n",
       "\n",
       "                     99%       max  \n",
       "data_kind                           \n",
       "random_domain2  1.828948  2.002681  \n",
       "test_shuffle2   2.636658  2.771922  \n",
       "true_cols       3.249693  3.451296  "
      ]
     },
     "execution_count": 35,
     "metadata": {},
     "output_type": "execute_result"
    }
   ],
   "source": [
    "df.groupby([\"data_kind\"])[\"rt\"].describe(percentiles=[0.9, 0.99])"
   ]
  },
  {
   "cell_type": "code",
   "execution_count": 36,
   "id": "6e7ea990",
   "metadata": {},
   "outputs": [],
   "source": [
    "tmp = df.groupby([\"ehash\", \"data_kind\"])[[\"rt\"]].mean().reset_index()"
   ]
  },
  {
   "cell_type": "code",
   "execution_count": 37,
   "id": "d5b34440",
   "metadata": {},
   "outputs": [],
   "source": [
    "edf = tmp.set_index(['ehash', 'data_kind'])['rt'].unstack().reset_index()"
   ]
  },
  {
   "cell_type": "code",
   "execution_count": 38,
   "id": "5958c8d9",
   "metadata": {},
   "outputs": [
    {
     "data": {
      "text/plain": [
       "<AxesSubplot:xlabel='test_shuffle2', ylabel='true_cols'>"
      ]
     },
     "execution_count": 38,
     "metadata": {},
     "output_type": "execute_result"
    },
    {
     "data": {
      "image/png": "[encoded data removed]",
      "text/plain": [
       "<Figure size 432x288 with 1 Axes>"
      ]
     },
     "metadata": {
      "needs_background": "light"
     },
     "output_type": "display_data"
    }
   ],
   "source": [
    "sns.scatterplot(data=edf, x = \"test_shuffle2\", y=\"true_cols\", alpha=0.2)"
   ]
  },
  {
   "cell_type": "code",
   "execution_count": 39,
   "id": "b2716f1d",
   "metadata": {},
   "outputs": [
    {
     "data": {
      "text/plain": [
       "<AxesSubplot:xlabel='random_domain2', ylabel='true_cols'>"
      ]
     },
     "execution_count": 39,
     "metadata": {},
     "output_type": "execute_result"
    },
    {
     "data": {
      "image/png": "[encoded data removed]",
      "text/plain": [
       "<Figure size 432x288 with 1 Axes>"
      ]
     },
     "metadata": {
      "needs_background": "light"
     },
     "output_type": "display_data"
    }
   ],
   "source": [
    "sns.scatterplot(data=edf, x = \"random_domain2\", y=\"true_cols\", alpha=0.2)"
   ]
  },
  {
   "cell_type": "code",
   "execution_count": null,
   "id": "c3352377",
   "metadata": {},
   "outputs": [],
   "source": []
  }
 ],
 "metadata": {
  "kernelspec": {
   "display_name": "Python 3 (ipykernel)",
   "language": "python",
   "name": "python3"
  },
  "language_info": {
   "codemirror_mode": {
    "name": "ipython",
    "version": 3
   },
   "file_extension": ".py",
   "mimetype": "text/x-python",
   "name": "python",
   "nbconvert_exporter": "python",
   "pygments_lexer": "ipython3",
   "version": "3.10.4"
  }
 },
 "nbformat": 4,
 "nbformat_minor": 5
}
