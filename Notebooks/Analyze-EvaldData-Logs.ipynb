{
 "cells": [
  {
   "cell_type": "code",
   "execution_count": 108,
   "id": "e2a0b777",
   "metadata": {},
   "outputs": [],
   "source": [
    "import pandas as pd\n",
    "import numpy as np\n",
    "import glob\n",
    "import os\n",
    "from collections import defaultdict\n",
    "import seaborn as sns\n",
    "import matplotlib.pyplot as plt"
   ]
  },
  {
   "cell_type": "code",
   "execution_count": 82,
   "id": "31770174",
   "metadata": {},
   "outputs": [],
   "source": [
    "def extract_val(d, key):\n",
    "    val_start = d.find(key)\n",
    "    val_end = val_start + d[val_start:].find(\",\")\n",
    "    val = d[val_start:val_end].split(\"=\")[1]\n",
    "    return val.replace(\"'\", \"\")\n",
    "\n",
    "def load_logs(logfile):\n",
    "    with open(logfile, \"r\") as f:\n",
    "        data = f.readlines()\n",
    "    \n",
    "    retdata = defaultdict(list)\n",
    "    alg = None\n",
    "    \n",
    "    for d in data:\n",
    "        if \"data_kind\" in d:\n",
    "            data_kind = extract_val(d, \"data_kind\")\n",
    "            inp_to_eval = extract_val(d, \"inp_to_eval\")\n",
    "            \n",
    "        if \"-->\" in d:\n",
    "            linedata = d.split(\" \")\n",
    "            ehash = linedata[5]\n",
    "            rt = float(linedata[-1].replace(\"\\n\", \"\"))\n",
    "            rep = int(linedata[-3])\n",
    "            retdata[\"ehash\"].append(ehash)\n",
    "            retdata[\"rt\"].append(rt)\n",
    "            retdata[\"rep\"].append(rep)\n",
    "            retdata[\"data_kind\"].append(str(data_kind))\n",
    "            retdata[\"inp_to_eval\"].append(inp_to_eval)\n",
    "    \n",
    "    df = pd.DataFrame(retdata)\n",
    "    return df"
   ]
  },
  {
   "cell_type": "code",
   "execution_count": 114,
   "id": "f26c42e6",
   "metadata": {},
   "outputs": [],
   "source": [
    "LOGDIR = \"../results_n/\""
   ]
  },
  {
   "cell_type": "code",
   "execution_count": 115,
   "id": "bc6705c2",
   "metadata": {},
   "outputs": [],
   "source": [
    "fns = glob.glob(LOGDIR + \"*.log\")\n",
    "dfs = []\n",
    "\n",
    "for fn in fns:\n",
    "    df = load_logs(fn)\n",
    "    dfs.append(df)"
   ]
  },
  {
   "cell_type": "code",
   "execution_count": 116,
   "id": "a903c3f2",
   "metadata": {},
   "outputs": [],
   "source": [
    "df = pd.concat(dfs)"
   ]
  },
  {
   "cell_type": "code",
   "execution_count": 117,
   "id": "f6334a3c",
   "metadata": {},
   "outputs": [
    {
     "name": "stdout",
     "output_type": "stream",
     "text": [
      "{'true_cols', 'test_shuffle', 'random_domain3', 'random_domain', 'random_domain2'} {'n', 'mi'}\n"
     ]
    },
    {
     "data": {
      "text/html": [
       "<div>\n",
       "<style scoped>\n",
       "    .dataframe tbody tr th:only-of-type {\n",
       "        vertical-align: middle;\n",
       "    }\n",
       "\n",
       "    .dataframe tbody tr th {\n",
       "        vertical-align: top;\n",
       "    }\n",
       "\n",
       "    .dataframe thead th {\n",
       "        text-align: right;\n",
       "    }\n",
       "</style>\n",
       "<table border=\"1\" class=\"dataframe\">\n",
       "  <thead>\n",
       "    <tr style=\"text-align: right;\">\n",
       "      <th></th>\n",
       "      <th>ehash</th>\n",
       "      <th>rt</th>\n",
       "      <th>rep</th>\n",
       "      <th>data_kind</th>\n",
       "      <th>inp_to_eval</th>\n",
       "    </tr>\n",
       "  </thead>\n",
       "  <tbody>\n",
       "    <tr>\n",
       "      <th>0</th>\n",
       "      <td>1412706111350165054529954383171903240337882399016</td>\n",
       "      <td>0.129884</td>\n",
       "      <td>0</td>\n",
       "      <td>true_cols</td>\n",
       "      <td>n</td>\n",
       "    </tr>\n",
       "    <tr>\n",
       "      <th>1</th>\n",
       "      <td>845697540102295928657811596227970506096002273384</td>\n",
       "      <td>0.361089</td>\n",
       "      <td>0</td>\n",
       "      <td>true_cols</td>\n",
       "      <td>n</td>\n",
       "    </tr>\n",
       "    <tr>\n",
       "      <th>2</th>\n",
       "      <td>428479027960649776600128440654385951132899596406</td>\n",
       "      <td>0.122867</td>\n",
       "      <td>0</td>\n",
       "      <td>true_cols</td>\n",
       "      <td>n</td>\n",
       "    </tr>\n",
       "    <tr>\n",
       "      <th>3</th>\n",
       "      <td>84075949613328714275869842821526357397337767243</td>\n",
       "      <td>0.115254</td>\n",
       "      <td>0</td>\n",
       "      <td>true_cols</td>\n",
       "      <td>n</td>\n",
       "    </tr>\n",
       "    <tr>\n",
       "      <th>4</th>\n",
       "      <td>1331203710710213837019143823676324531895931998752</td>\n",
       "      <td>0.223589</td>\n",
       "      <td>0</td>\n",
       "      <td>true_cols</td>\n",
       "      <td>n</td>\n",
       "    </tr>\n",
       "    <tr>\n",
       "      <th>...</th>\n",
       "      <td>...</td>\n",
       "      <td>...</td>\n",
       "      <td>...</td>\n",
       "      <td>...</td>\n",
       "      <td>...</td>\n",
       "    </tr>\n",
       "    <tr>\n",
       "      <th>1495</th>\n",
       "      <td>1063466332439605995761783624533110685102934053128</td>\n",
       "      <td>0.123927</td>\n",
       "      <td>2</td>\n",
       "      <td>test_shuffle</td>\n",
       "      <td>n</td>\n",
       "    </tr>\n",
       "    <tr>\n",
       "      <th>1496</th>\n",
       "      <td>216408456000682405708249478876159637241851169399</td>\n",
       "      <td>0.146228</td>\n",
       "      <td>2</td>\n",
       "      <td>test_shuffle</td>\n",
       "      <td>n</td>\n",
       "    </tr>\n",
       "    <tr>\n",
       "      <th>1497</th>\n",
       "      <td>1425979425022617961196684811888845962957194079395</td>\n",
       "      <td>0.125531</td>\n",
       "      <td>2</td>\n",
       "      <td>test_shuffle</td>\n",
       "      <td>n</td>\n",
       "    </tr>\n",
       "    <tr>\n",
       "      <th>1498</th>\n",
       "      <td>207133359698626392416029221914781840852700798979</td>\n",
       "      <td>0.127424</td>\n",
       "      <td>2</td>\n",
       "      <td>test_shuffle</td>\n",
       "      <td>n</td>\n",
       "    </tr>\n",
       "    <tr>\n",
       "      <th>1499</th>\n",
       "      <td>353785665163398072814104917921269351361663177397</td>\n",
       "      <td>0.127684</td>\n",
       "      <td>2</td>\n",
       "      <td>test_shuffle</td>\n",
       "      <td>n</td>\n",
       "    </tr>\n",
       "  </tbody>\n",
       "</table>\n",
       "<p>10510 rows × 5 columns</p>\n",
       "</div>"
      ],
      "text/plain": [
       "                                                  ehash        rt  rep  \\\n",
       "0     1412706111350165054529954383171903240337882399016  0.129884    0   \n",
       "1      845697540102295928657811596227970506096002273384  0.361089    0   \n",
       "2      428479027960649776600128440654385951132899596406  0.122867    0   \n",
       "3       84075949613328714275869842821526357397337767243  0.115254    0   \n",
       "4     1331203710710213837019143823676324531895931998752  0.223589    0   \n",
       "...                                                 ...       ...  ...   \n",
       "1495  1063466332439605995761783624533110685102934053128  0.123927    2   \n",
       "1496   216408456000682405708249478876159637241851169399  0.146228    2   \n",
       "1497  1425979425022617961196684811888845962957194079395  0.125531    2   \n",
       "1498   207133359698626392416029221914781840852700798979  0.127424    2   \n",
       "1499   353785665163398072814104917921269351361663177397  0.127684    2   \n",
       "\n",
       "         data_kind inp_to_eval  \n",
       "0        true_cols           n  \n",
       "1        true_cols           n  \n",
       "2        true_cols           n  \n",
       "3        true_cols           n  \n",
       "4        true_cols           n  \n",
       "...            ...         ...  \n",
       "1495  test_shuffle           n  \n",
       "1496  test_shuffle           n  \n",
       "1497  test_shuffle           n  \n",
       "1498  test_shuffle           n  \n",
       "1499  test_shuffle           n  \n",
       "\n",
       "[10510 rows x 5 columns]"
      ]
     },
     "execution_count": 117,
     "metadata": {},
     "output_type": "execute_result"
    }
   ],
   "source": [
    "print(set(df[\"data_kind\"]), set(df[\"inp_to_eval\"]))\n",
    "df"
   ]
  },
  {
   "cell_type": "code",
   "execution_count": 119,
   "id": "c48a2b1a",
   "metadata": {},
   "outputs": [],
   "source": [
    "df = df[df.data_kind != 'random_domain']\n",
    "df = df[df.inp_to_eval == 'n']"
   ]
  },
  {
   "cell_type": "code",
   "execution_count": 120,
   "id": "0e5f3589",
   "metadata": {},
   "outputs": [
    {
     "data": {
      "text/plain": [
       "data_kind\n",
       "random_domain2    540.087279\n",
       "test_shuffle      407.319297\n",
       "true_cols         485.521980\n",
       "Name: rt, dtype: float64"
      ]
     },
     "execution_count": 120,
     "metadata": {},
     "output_type": "execute_result"
    }
   ],
   "source": [
    "df.groupby([\"data_kind\"])[\"rt\"].sum()"
   ]
  },
  {
   "cell_type": "code",
   "execution_count": 121,
   "id": "2c16562c",
   "metadata": {},
   "outputs": [
    {
     "data": {
      "text/html": [
       "<div>\n",
       "<style scoped>\n",
       "    .dataframe tbody tr th:only-of-type {\n",
       "        vertical-align: middle;\n",
       "    }\n",
       "\n",
       "    .dataframe tbody tr th {\n",
       "        vertical-align: top;\n",
       "    }\n",
       "\n",
       "    .dataframe thead th {\n",
       "        text-align: right;\n",
       "    }\n",
       "</style>\n",
       "<table border=\"1\" class=\"dataframe\">\n",
       "  <thead>\n",
       "    <tr style=\"text-align: right;\">\n",
       "      <th></th>\n",
       "      <th>count</th>\n",
       "      <th>mean</th>\n",
       "      <th>std</th>\n",
       "      <th>min</th>\n",
       "      <th>50%</th>\n",
       "      <th>90%</th>\n",
       "      <th>99%</th>\n",
       "      <th>max</th>\n",
       "    </tr>\n",
       "    <tr>\n",
       "      <th>data_kind</th>\n",
       "      <th></th>\n",
       "      <th></th>\n",
       "      <th></th>\n",
       "      <th></th>\n",
       "      <th></th>\n",
       "      <th></th>\n",
       "      <th></th>\n",
       "      <th></th>\n",
       "    </tr>\n",
       "  </thead>\n",
       "  <tbody>\n",
       "    <tr>\n",
       "      <th>random_domain2</th>\n",
       "      <td>3000.0</td>\n",
       "      <td>0.180029</td>\n",
       "      <td>0.068513</td>\n",
       "      <td>0.132689</td>\n",
       "      <td>0.139201</td>\n",
       "      <td>0.267095</td>\n",
       "      <td>0.397302</td>\n",
       "      <td>0.515943</td>\n",
       "    </tr>\n",
       "    <tr>\n",
       "      <th>test_shuffle</th>\n",
       "      <td>3000.0</td>\n",
       "      <td>0.135773</td>\n",
       "      <td>0.021103</td>\n",
       "      <td>0.108076</td>\n",
       "      <td>0.126181</td>\n",
       "      <td>0.160742</td>\n",
       "      <td>0.202564</td>\n",
       "      <td>0.214050</td>\n",
       "    </tr>\n",
       "    <tr>\n",
       "      <th>true_cols</th>\n",
       "      <td>3000.0</td>\n",
       "      <td>0.161841</td>\n",
       "      <td>0.067526</td>\n",
       "      <td>0.111096</td>\n",
       "      <td>0.122614</td>\n",
       "      <td>0.269206</td>\n",
       "      <td>0.370432</td>\n",
       "      <td>0.507481</td>\n",
       "    </tr>\n",
       "  </tbody>\n",
       "</table>\n",
       "</div>"
      ],
      "text/plain": [
       "                 count      mean       std       min       50%       90%  \\\n",
       "data_kind                                                                  \n",
       "random_domain2  3000.0  0.180029  0.068513  0.132689  0.139201  0.267095   \n",
       "test_shuffle    3000.0  0.135773  0.021103  0.108076  0.126181  0.160742   \n",
       "true_cols       3000.0  0.161841  0.067526  0.111096  0.122614  0.269206   \n",
       "\n",
       "                     99%       max  \n",
       "data_kind                           \n",
       "random_domain2  0.397302  0.515943  \n",
       "test_shuffle    0.202564  0.214050  \n",
       "true_cols       0.370432  0.507481  "
      ]
     },
     "execution_count": 121,
     "metadata": {},
     "output_type": "execute_result"
    }
   ],
   "source": [
    "df.groupby([\"data_kind\"])[\"rt\"].describe(percentiles=[0.9, 0.99])"
   ]
  },
  {
   "cell_type": "code",
   "execution_count": 122,
   "id": "6e7ea990",
   "metadata": {},
   "outputs": [],
   "source": [
    "tmp = df.groupby([\"ehash\", \"data_kind\"])[[\"rt\"]].mean().reset_index()"
   ]
  },
  {
   "cell_type": "code",
   "execution_count": 123,
   "id": "d5b34440",
   "metadata": {},
   "outputs": [],
   "source": [
    "edf = tmp.set_index(['ehash', 'data_kind'])['rt'].unstack().reset_index()"
   ]
  },
  {
   "cell_type": "code",
   "execution_count": 124,
   "id": "5958c8d9",
   "metadata": {},
   "outputs": [
    {
     "data": {
      "text/plain": [
       "<AxesSubplot:xlabel='test_shuffle', ylabel='true_cols'>"
      ]
     },
     "execution_count": 124,
     "metadata": {},
     "output_type": "execute_result"
    },
    {
     "data": {
      "image/png": "[encoded data removed]",
      "text/plain": [
       "<Figure size 432x288 with 1 Axes>"
      ]
     },
     "metadata": {
      "needs_background": "light"
     },
     "output_type": "display_data"
    }
   ],
   "source": [
    "sns.scatterplot(data=edf, x = \"test_shuffle\", y=\"true_cols\", alpha=0.2)"
   ]
  },
  {
   "cell_type": "code",
   "execution_count": 125,
   "id": "b2716f1d",
   "metadata": {},
   "outputs": [
    {
     "data": {
      "text/plain": [
       "<AxesSubplot:xlabel='random_domain2', ylabel='true_cols'>"
      ]
     },
     "execution_count": 125,
     "metadata": {},
     "output_type": "execute_result"
    },
    {
     "data": {
      "image/png": "[encoded data removed]",
      "text/plain": [
       "<Figure size 432x288 with 1 Axes>"
      ]
     },
     "metadata": {
      "needs_background": "light"
     },
     "output_type": "display_data"
    }
   ],
   "source": [
    "sns.scatterplot(data=edf, x = \"random_domain2\", y=\"true_cols\", alpha=0.2)"
   ]
  }
 ],
 "metadata": {
  "kernelspec": {
   "display_name": "Python 3 (ipykernel)",
   "language": "python",
   "name": "python3"
  },
  "language_info": {
   "codemirror_mode": {
    "name": "ipython",
    "version": 3
   },
   "file_extension": ".py",
   "mimetype": "text/x-python",
   "name": "python",
   "nbconvert_exporter": "python",
   "pygments_lexer": "ipython3",
   "version": "3.10.4"
  }
 },
 "nbformat": 4,
 "nbformat_minor": 5
}
