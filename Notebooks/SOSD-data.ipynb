{
 "cells": [
  {
   "cell_type": "code",
   "execution_count": 4,
   "id": "03be2003",
   "metadata": {},
   "outputs": [],
   "source": [
    "import numpy as np\n",
    "import os\n",
    "import pandas as pd"
   ]
  },
  {
   "cell_type": "code",
   "execution_count": 5,
   "id": "f25d6aec",
   "metadata": {},
   "outputs": [],
   "source": [
    "SOSD_DIR = \"/spinning/pari/SOSD/data/\"\n",
    "\n",
    "WK = \"wiki_ts_200M_uint64\"\n",
    "QFN_TMP1 = \"{}_equality_lookups_1M\"\n",
    "QFN_TMP2 = \"{}_equality_lookups_10M\""
   ]
  },
  {
   "cell_type": "code",
   "execution_count": 6,
   "id": "9ece2317",
   "metadata": {},
   "outputs": [],
   "source": [
    "fn = os.path.join(SOSD_DIR, WK)\n",
    "data = np.fromfile(fn, dtype=np.uint64)"
   ]
  },
  {
   "cell_type": "code",
   "execution_count": 7,
   "id": "af00e096",
   "metadata": {},
   "outputs": [],
   "source": [
    "qdata1 = np.fromfile(os.path.join(SOSD_DIR, QFN_TMP1.format(WK)), dtype=np.uint64)\n",
    "#qdata2 = os.path.join(SOSD_DIR, QFN_TMP1.format(WK))"
   ]
  },
  {
   "cell_type": "code",
   "execution_count": 8,
   "id": "f79892cf",
   "metadata": {},
   "outputs": [
    {
     "name": "stdout",
     "output_type": "stream",
     "text": [
      "200000001 2000001\n"
     ]
    }
   ],
   "source": [
    "print(len(data), len(qdata1))"
   ]
  },
  {
   "cell_type": "code",
   "execution_count": 9,
   "id": "a5171088",
   "metadata": {},
   "outputs": [],
   "source": [
    "un = np.unique(data)"
   ]
  },
  {
   "cell_type": "code",
   "execution_count": 10,
   "id": "97af94d5",
   "metadata": {},
   "outputs": [
    {
     "data": {
      "text/plain": [
       "90437012"
      ]
     },
     "execution_count": 10,
     "metadata": {},
     "output_type": "execute_result"
    }
   ],
   "source": [
    "len(un)"
   ]
  },
  {
   "cell_type": "code",
   "execution_count": 11,
   "id": "f330b4cd",
   "metadata": {},
   "outputs": [
    {
     "data": {
      "text/plain": [
       "2000001"
      ]
     },
     "execution_count": 11,
     "metadata": {},
     "output_type": "execute_result"
    }
   ],
   "source": [
    "len(qdata1)"
   ]
  },
  {
   "cell_type": "code",
   "execution_count": 12,
   "id": "1bb702e5",
   "metadata": {},
   "outputs": [
    {
     "data": {
      "text/plain": [
       "array([   1000000, 1114884650,   13131386, ...,  316075293, 1103883090,\n",
       "          9004616], dtype=uint64)"
      ]
     },
     "execution_count": 12,
     "metadata": {},
     "output_type": "execute_result"
    }
   ],
   "source": [
    "qdata1"
   ]
  },
  {
   "cell_type": "code",
   "execution_count": 13,
   "id": "c131e428",
   "metadata": {},
   "outputs": [
    {
     "data": {
      "text/plain": [
       "array([ 200000000,  979672113,  979672371, ..., 1216240435, 1216240436,\n",
       "       1216240436], dtype=uint64)"
      ]
     },
     "execution_count": 13,
     "metadata": {},
     "output_type": "execute_result"
    }
   ],
   "source": [
    "data"
   ]
  },
  {
   "cell_type": "code",
   "execution_count": 14,
   "id": "54cecbf2",
   "metadata": {},
   "outputs": [
    {
     "name": "stdout",
     "output_type": "stream",
     "text": [
      "1216240436 200000000\n"
     ]
    }
   ],
   "source": [
    "print(np.max(data), np.min(data))"
   ]
  },
  {
   "cell_type": "code",
   "execution_count": 15,
   "id": "fa31dce9",
   "metadata": {},
   "outputs": [],
   "source": [
    "tmp = data[data == qdata1[150]]"
   ]
  },
  {
   "cell_type": "code",
   "execution_count": 16,
   "id": "976f7421",
   "metadata": {},
   "outputs": [
    {
     "data": {
      "text/plain": [
       "array([], dtype=uint64)"
      ]
     },
     "execution_count": 16,
     "metadata": {},
     "output_type": "execute_result"
    }
   ],
   "source": [
    "tmp"
   ]
  },
  {
   "cell_type": "code",
   "execution_count": 17,
   "id": "1bfe54b9",
   "metadata": {},
   "outputs": [
    {
     "data": {
      "text/plain": [
       "2000001"
      ]
     },
     "execution_count": 17,
     "metadata": {},
     "output_type": "execute_result"
    }
   ],
   "source": [
    "len(qdata1)"
   ]
  },
  {
   "cell_type": "code",
   "execution_count": 18,
   "id": "fc5fff10",
   "metadata": {},
   "outputs": [],
   "source": [
    "# dataset = pd.DataFrame({'Column1': data[:, 0], 'Column2': data[:, 1]})\n",
    "df = pd.DataFrame({\"col\": data})"
   ]
  },
  {
   "cell_type": "code",
   "execution_count": 19,
   "id": "e56c6450",
   "metadata": {},
   "outputs": [
    {
     "data": {
      "text/html": [
       "<div>\n",
       "<style scoped>\n",
       "    .dataframe tbody tr th:only-of-type {\n",
       "        vertical-align: middle;\n",
       "    }\n",
       "\n",
       "    .dataframe tbody tr th {\n",
       "        vertical-align: top;\n",
       "    }\n",
       "\n",
       "    .dataframe thead th {\n",
       "        text-align: right;\n",
       "    }\n",
       "</style>\n",
       "<table border=\"1\" class=\"dataframe\">\n",
       "  <thead>\n",
       "    <tr style=\"text-align: right;\">\n",
       "      <th></th>\n",
       "      <th>col</th>\n",
       "    </tr>\n",
       "  </thead>\n",
       "  <tbody>\n",
       "    <tr>\n",
       "      <th>0</th>\n",
       "      <td>200000000</td>\n",
       "    </tr>\n",
       "    <tr>\n",
       "      <th>1</th>\n",
       "      <td>979672113</td>\n",
       "    </tr>\n",
       "    <tr>\n",
       "      <th>2</th>\n",
       "      <td>979672371</td>\n",
       "    </tr>\n",
       "    <tr>\n",
       "      <th>3</th>\n",
       "      <td>979676171</td>\n",
       "    </tr>\n",
       "    <tr>\n",
       "      <th>4</th>\n",
       "      <td>979676223</td>\n",
       "    </tr>\n",
       "  </tbody>\n",
       "</table>\n",
       "</div>"
      ],
      "text/plain": [
       "         col\n",
       "0  200000000\n",
       "1  979672113\n",
       "2  979672371\n",
       "3  979676171\n",
       "4  979676223"
      ]
     },
     "execution_count": 19,
     "metadata": {},
     "output_type": "execute_result"
    }
   ],
   "source": [
    "df.head(5)"
   ]
  },
  {
   "cell_type": "code",
   "execution_count": 20,
   "id": "2506459a",
   "metadata": {},
   "outputs": [],
   "source": [
    "dfc = df.groupby(\"col\").size().reset_index()"
   ]
  },
  {
   "cell_type": "code",
   "execution_count": 21,
   "id": "b2dd5ab1",
   "metadata": {},
   "outputs": [
    {
     "data": {
      "text/plain": [
       "count     9.043701e+07\n",
       "mean      2.211484e+00\n",
       "std       3.124949e+00\n",
       "min       1.000000e+00\n",
       "50%       2.000000e+00\n",
       "90%       4.000000e+00\n",
       "99%       7.000000e+00\n",
       "99.9%     9.000000e+00\n",
       "99.99%    1.100000e+01\n",
       "max       2.102600e+04\n",
       "Name: 0, dtype: float64"
      ]
     },
     "execution_count": 21,
     "metadata": {},
     "output_type": "execute_result"
    }
   ],
   "source": [
    "dfc[0].describe(percentiles=[0.9, 0.99, 0.999, 0.9999])"
   ]
  },
  {
   "cell_type": "code",
   "execution_count": 82,
   "id": "13e7485b",
   "metadata": {},
   "outputs": [
    {
     "data": {
      "text/html": [
       "<div>\n",
       "<style scoped>\n",
       "    .dataframe tbody tr th:only-of-type {\n",
       "        vertical-align: middle;\n",
       "    }\n",
       "\n",
       "    .dataframe tbody tr th {\n",
       "        vertical-align: top;\n",
       "    }\n",
       "\n",
       "    .dataframe thead th {\n",
       "        text-align: right;\n",
       "    }\n",
       "</style>\n",
       "<table border=\"1\" class=\"dataframe\">\n",
       "  <thead>\n",
       "    <tr style=\"text-align: right;\">\n",
       "      <th></th>\n",
       "      <th>col</th>\n",
       "      <th>0</th>\n",
       "    </tr>\n",
       "  </thead>\n",
       "  <tbody>\n",
       "    <tr>\n",
       "      <th>102758</th>\n",
       "      <td>1014648675</td>\n",
       "      <td>21026</td>\n",
       "    </tr>\n",
       "    <tr>\n",
       "      <th>102756</th>\n",
       "      <td>1014648191</td>\n",
       "      <td>16164</td>\n",
       "    </tr>\n",
       "    <tr>\n",
       "      <th>75534955</th>\n",
       "      <td>1199376360</td>\n",
       "      <td>142</td>\n",
       "    </tr>\n",
       "    <tr>\n",
       "      <th>3787620</th>\n",
       "      <td>1085804410</td>\n",
       "      <td>139</td>\n",
       "    </tr>\n",
       "    <tr>\n",
       "      <th>75535154</th>\n",
       "      <td>1199376569</td>\n",
       "      <td>138</td>\n",
       "    </tr>\n",
       "    <tr>\n",
       "      <th>...</th>\n",
       "      <td>...</td>\n",
       "      <td>...</td>\n",
       "    </tr>\n",
       "    <tr>\n",
       "      <th>28569701</th>\n",
       "      <td>1144552768</td>\n",
       "      <td>1</td>\n",
       "    </tr>\n",
       "    <tr>\n",
       "      <th>28569706</th>\n",
       "      <td>1144552773</td>\n",
       "      <td>1</td>\n",
       "    </tr>\n",
       "    <tr>\n",
       "      <th>28569707</th>\n",
       "      <td>1144552774</td>\n",
       "      <td>1</td>\n",
       "    </tr>\n",
       "    <tr>\n",
       "      <th>28569708</th>\n",
       "      <td>1144552775</td>\n",
       "      <td>1</td>\n",
       "    </tr>\n",
       "    <tr>\n",
       "      <th>45218506</th>\n",
       "      <td>1164803505</td>\n",
       "      <td>1</td>\n",
       "    </tr>\n",
       "  </tbody>\n",
       "</table>\n",
       "<p>90437012 rows × 2 columns</p>\n",
       "</div>"
      ],
      "text/plain": [
       "                 col      0\n",
       "102758    1014648675  21026\n",
       "102756    1014648191  16164\n",
       "75534955  1199376360    142\n",
       "3787620   1085804410    139\n",
       "75535154  1199376569    138\n",
       "...              ...    ...\n",
       "28569701  1144552768      1\n",
       "28569706  1144552773      1\n",
       "28569707  1144552774      1\n",
       "28569708  1144552775      1\n",
       "45218506  1164803505      1\n",
       "\n",
       "[90437012 rows x 2 columns]"
      ]
     },
     "execution_count": 82,
     "metadata": {},
     "output_type": "execute_result"
    }
   ],
   "source": [
    "dfc.sort_values(by=0, ascending=False)"
   ]
  },
  {
   "cell_type": "code",
   "execution_count": 83,
   "id": "8cbcc528",
   "metadata": {},
   "outputs": [
    {
     "data": {
      "text/plain": [
       "90437012"
      ]
     },
     "execution_count": 83,
     "metadata": {},
     "output_type": "execute_result"
    }
   ],
   "source": [
    "len(dfc)"
   ]
  },
  {
   "cell_type": "code",
   "execution_count": 85,
   "id": "fc6cadfb",
   "metadata": {},
   "outputs": [],
   "source": [
    "dfc2 = dfc[dfc[\"col\"].isin(qdata1)]"
   ]
  },
  {
   "cell_type": "code",
   "execution_count": 87,
   "id": "5852075b",
   "metadata": {},
   "outputs": [
    {
     "data": {
      "text/plain": [
       "996982"
      ]
     },
     "execution_count": 87,
     "metadata": {},
     "output_type": "execute_result"
    }
   ],
   "source": [
    "len(dfc2)"
   ]
  },
  {
   "cell_type": "code",
   "execution_count": 88,
   "id": "d3e37436",
   "metadata": {},
   "outputs": [
    {
     "data": {
      "text/plain": [
       "2000001"
      ]
     },
     "execution_count": 88,
     "metadata": {},
     "output_type": "execute_result"
    }
   ],
   "source": [
    "len(qdata1)"
   ]
  },
  {
   "cell_type": "code",
   "execution_count": 89,
   "id": "f520b469",
   "metadata": {},
   "outputs": [
    {
     "data": {
      "text/plain": [
       "array([ 200000000,  979672113,  979672371, ..., 1216240435, 1216240436,\n",
       "       1216240436], dtype=uint64)"
      ]
     },
     "execution_count": 89,
     "metadata": {},
     "output_type": "execute_result"
    }
   ],
   "source": [
    "data2 = data[data == qdata1]"
   ]
  },
  {
   "cell_type": "code",
   "execution_count": 92,
   "id": "13b60844",
   "metadata": {},
   "outputs": [],
   "source": [
    "#data == qdata1"
   ]
  },
  {
   "cell_type": "code",
   "execution_count": 93,
   "id": "db490bdd",
   "metadata": {},
   "outputs": [],
   "source": [
    "df3 = df[df[\"col\"].isin(qdata1)]"
   ]
  },
  {
   "cell_type": "code",
   "execution_count": 94,
   "id": "ffbd52cf",
   "metadata": {},
   "outputs": [
    {
     "data": {
      "text/plain": [
       "2199975"
      ]
     },
     "execution_count": 94,
     "metadata": {},
     "output_type": "execute_result"
    }
   ],
   "source": [
    "len(df3)"
   ]
  },
  {
   "cell_type": "code",
   "execution_count": null,
   "id": "1945e20f",
   "metadata": {},
   "outputs": [],
   "source": []
  }
 ],
 "metadata": {
  "kernelspec": {
   "display_name": "Python 3 (ipykernel)",
   "language": "python",
   "name": "python3"
  },
  "language_info": {
   "codemirror_mode": {
    "name": "ipython",
    "version": 3
   },
   "file_extension": ".py",
   "mimetype": "text/x-python",
   "name": "python",
   "nbconvert_exporter": "python",
   "pygments_lexer": "ipython3",
   "version": "3.10.4"
  }
 },
 "nbformat": 4,
 "nbformat_minor": 5
}
